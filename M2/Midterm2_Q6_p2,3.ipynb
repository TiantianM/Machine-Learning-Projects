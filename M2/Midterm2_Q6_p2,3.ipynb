{
 "cells": [
  {
   "cell_type": "markdown",
   "metadata": {},
   "source": [
    "# Part2"
   ]
  },
  {
   "cell_type": "code",
   "execution_count": 1,
   "metadata": {},
   "outputs": [],
   "source": [
    "import pandas as pd\n",
    "from sklearn.ensemble import RandomForestClassifier"
   ]
  },
  {
   "cell_type": "code",
   "execution_count": 2,
   "metadata": {},
   "outputs": [],
   "source": [
    "X_val = pd.read_csv('/Users/mc/Desktop/Midterm/MNISTValidationX.csv')\n",
    "y_val = pd.read_csv('/Users/mc/Desktop/Midterm/MNISTValidationY.csv')\n",
    "X_train = pd.read_csv('/Users/mc/Desktop/Midterm/MNISTTrainXV2.csv')\n",
    "y_train = pd.read_csv('/Users/mc/Desktop/Midterm/MNISTTrainY.csv')"
   ]
  },
  {
   "cell_type": "code",
   "execution_count": 3,
   "metadata": {},
   "outputs": [
    {
     "name": "stderr",
     "output_type": "stream",
     "text": [
      "<ipython-input-3-59c039a4a82d>:5: DataConversionWarning: A column-vector y was passed when a 1d array was expected. Please change the shape of y to (n_samples,), for example using ravel().\n",
      "  rf_model.fit(X_train, y_train)\n"
     ]
    }
   ],
   "source": [
    "# Select rf classification algorithm\n",
    "rf_model = RandomForestClassifier(max_features = 20)\n",
    "\n",
    "# Train the model\n",
    "rf_model.fit(X_train, y_train)\n",
    "\n",
    "y_pred = rf_model.predict(X_val)"
   ]
  },
  {
   "cell_type": "code",
   "execution_count": 4,
   "metadata": {
    "scrolled": true
   },
   "outputs": [
    {
     "name": "stdout",
     "output_type": "stream",
     "text": [
      "[[1474    0    0    0    1    4   11    0    9    1]\n",
      " [   0 1458   17    5    5    2    4    4    2    3]\n",
      " [   4    1 1449    5   11    0    2    6   18    4]\n",
      " [   5    3   18 1393    0   28    0   17   25   11]\n",
      " [   4    3    3    1 1430    0   14    6    6   33]\n",
      " [  10    3    5   17    5 1427    7    2   11   13]\n",
      " [   5    2    2    0    7   20 1456    0    8    0]\n",
      " [   1    5   14    5   12    0    0 1435    3   25]\n",
      " [   4   11    8   17   10   23    6    0 1408   13]\n",
      " [   5    5    3   23   18    2    0   14   20 1410]]\n"
     ]
    }
   ],
   "source": [
    "from sklearn.metrics import confusion_matrix\n",
    "cm = confusion_matrix(y_val, y_pred)\n",
    "print(cm)"
   ]
  },
  {
   "cell_type": "code",
   "execution_count": 10,
   "metadata": {},
   "outputs": [
    {
     "name": "stdout",
     "output_type": "stream",
     "text": [
      "[ 26  42  51 107  70  73  44  65  92  90]\n"
     ]
    }
   ],
   "source": [
    "import numpy as np\n",
    "\n",
    "sum_off_diag_per_row = np.sum(cm - np.diag(np.diag(cm)), axis=1)\n",
    "\n",
    "print(sum_off_diag_per_row)"
   ]
  },
  {
   "cell_type": "markdown",
   "metadata": {},
   "source": [
    "In the confusion matrix, the highest off-diagonal element indicateing that \"3\" is most likely to be incorrectly classified. It was incorrectly classified as \"2\" 18 times, incorrectly classified as \"5\" 28 times, \"7\" 17 times and 8 \"25\" times. The most commonly confused digit pairs is \"3\" and \"5\"."
   ]
  },
  {
   "cell_type": "code",
   "execution_count": 17,
   "metadata": {
    "scrolled": true
   },
   "outputs": [
    {
     "name": "stdout",
     "output_type": "stream",
     "text": [
      "       label  pred\n",
      "0          0     0\n",
      "1          0     0\n",
      "2          0     0\n",
      "3          0     0\n",
      "4          0     0\n",
      "...      ...   ...\n",
      "14995      9     9\n",
      "14996      9     9\n",
      "14997      9     9\n",
      "14998      9     9\n",
      "14999      9     9\n",
      "\n",
      "[15000 rows x 2 columns]\n"
     ]
    }
   ],
   "source": [
    "y_combined = y_val.copy()\n",
    "y_combined['pred'] = y_pred\n",
    "\n",
    "# print the updated y_val dataframe\n",
    "print(y_combined)"
   ]
  },
  {
   "cell_type": "code",
   "execution_count": 18,
   "metadata": {},
   "outputs": [
    {
     "name": "stdout",
     "output_type": "stream",
     "text": [
      "Int64Index([4524, 4554, 4555, 4589, 4649, 4667, 4700, 4837, 4875, 4920, 4948,\n",
      "            5060, 5068, 5107, 5130, 5171, 5182, 5306, 5371, 5420, 5441, 5455,\n",
      "            5544, 5610, 5723, 5780, 5882, 5964],\n",
      "           dtype='int64')\n"
     ]
    }
   ],
   "source": [
    "indices = y_combined.index[(y_combined.iloc[:, 0] == 3) & (y_combined.iloc[:, 1] == 5)]\n",
    "print(indices)"
   ]
  },
  {
   "cell_type": "markdown",
   "metadata": {},
   "source": [
    "Choose first 9 to plot images in R."
   ]
  },
  {
   "cell_type": "markdown",
   "metadata": {},
   "source": [
    "# Part 3"
   ]
  },
  {
   "cell_type": "code",
   "execution_count": 22,
   "metadata": {},
   "outputs": [],
   "source": [
    "X_test = pd.read_csv('/Users/mc/Desktop/Midterm/MNISTTestXRand.csv')\n",
    "y_test = pd.read_csv('/Users/mc/Desktop/Midterm/MNISTTestYRand.csv')"
   ]
  },
  {
   "cell_type": "code",
   "execution_count": 23,
   "metadata": {},
   "outputs": [],
   "source": [
    "test_pred = rf_model.predict(X_test)"
   ]
  },
  {
   "cell_type": "code",
   "execution_count": 24,
   "metadata": {},
   "outputs": [],
   "source": [
    "submission = pd.DataFrame({\"Key\" : y_test['key'], 'label': test_pred})\n",
    "submission.to_csv('/Users/mc/Desktop/Midterm/Q6PredictionsMT2.csv', index=False)"
   ]
  }
 ],
 "metadata": {
  "kernelspec": {
   "display_name": "Python 3",
   "language": "python",
   "name": "python3"
  },
  "language_info": {
   "codemirror_mode": {
    "name": "ipython",
    "version": 3
   },
   "file_extension": ".py",
   "mimetype": "text/x-python",
   "name": "python",
   "nbconvert_exporter": "python",
   "pygments_lexer": "ipython3",
   "version": "3.8.5"
  }
 },
 "nbformat": 4,
 "nbformat_minor": 4
}
